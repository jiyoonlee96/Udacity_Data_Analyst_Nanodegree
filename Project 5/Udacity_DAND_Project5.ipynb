{
 "cells": [
  {
   "attachments": {},
   "cell_type": "markdown",
   "metadata": {},
   "source": [
    "# Project 5: Communicate Data Findings : 2020 US Domestic Flights Dataset \n",
    "\n",
    "> The 2020 US Domestic Flights datset contains 607346 rows and 22 features.\n",
    ">\n",
    "> **Feature Description :**\n",
    "    > - **YEAR** \n",
    "    > - **MONTH**\n",
    "    > - **DAY_OF_MONTH** \n",
    "    > - **DAY_OF_WEEK**: 1: Monday 2: Tuesday 3: Wednesday 4: Thursday 5: Friday 6: Saturday 7:Sunday 9: Unknown\n",
    "    > - **FL_DATE**: Flight Date (yymmdd)\n",
    "    > - **ORIGIN** : Origin Airport\n",
    "    > - **ORIGIN_CITY_NAME**: Origin Airport, City Name\n",
    "    > - **ORIGIN_STATE_NM**: Origin Airport, State Name\n",
    "    > - **DEST**: Destination Airport\n",
    "    > - **DEST_CITY_NAME**: Destination Airport, City Name\n",
    "    > - **DEST_STATE_NM**: Destination Airport, State Name\n",
    "    > - **DEP_TIME**: Actual Departure Time (local time: hhmm)\n",
    "    > - **DEP_DELAY**: Difference between scheduled and actual departure time. Early departures show negative numbers (minutes).\n",
    "    > - **DEP_DEL15**: Departure Delay Indicator, 15 Minutes or More (1=Yes; 0=NO)\n",
    "    > - **ARR_TIME**: Actual Arrival Time (local time: hhmm)\n",
    "    > - **ARR_DELAY**: Difference between scheduled and actual arrival time. Early arrivals show negative numbers (minutes).\n",
    "    > - **ARR_DEL15**: Arrival Delay Indicator, 15 Minutes or More (1=Yes; 0=No)\n",
    "    > - **CANCELLED**: Cancelled Flight Indicator (1=Yes; 0=NO)\n",
    "    > - **AIR_TIME**: Flight Time (minutes)\n",
    "    > - **DISTANCE**: Distance between airports (miles)\n",
    "    > - **Code** :  Unique Carrier Code. When the same code has been used by multiple carriers, a numeric suffix is used for earlier users, for example, PA, PA(1), PA(2). Use this field for analysis across a range of years.\n",
    "    > - **Description** : Description of the Carrier\n",
    "## Preliminary Wrangling\n",
    "\n",
    "The 2020 US Domestic Flights datset contains \n",
    "This document explores the datset containing time, location, and delay status of 607346 flights of 2020 January US flights. "
   ]
  },
  {
   "cell_type": "code",
   "execution_count": 65,
   "metadata": {},
   "outputs": [],
   "source": [
    "#Import libraries\n",
    "import numpy as np\n",
    "import pandas as pd\n",
    "import matplotlib.pyplot as plt\n",
    "import seaborn as sns\n",
    "\n",
    "%matplotlib inline"
   ]
  },
  {
   "cell_type": "code",
   "execution_count": 66,
   "metadata": {},
   "outputs": [
    {
     "data": {
      "text/html": [
       "<div>\n",
       "<style scoped>\n",
       "    .dataframe tbody tr th:only-of-type {\n",
       "        vertical-align: middle;\n",
       "    }\n",
       "\n",
       "    .dataframe tbody tr th {\n",
       "        vertical-align: top;\n",
       "    }\n",
       "\n",
       "    .dataframe thead th {\n",
       "        text-align: right;\n",
       "    }\n",
       "</style>\n",
       "<table border=\"1\" class=\"dataframe\">\n",
       "  <thead>\n",
       "    <tr style=\"text-align: right;\">\n",
       "      <th></th>\n",
       "      <th>YEAR</th>\n",
       "      <th>MONTH</th>\n",
       "      <th>DAY_OF_MONTH</th>\n",
       "      <th>DAY_OF_WEEK</th>\n",
       "      <th>FL_DATE</th>\n",
       "      <th>OP_UNIQUE_CARRIER</th>\n",
       "      <th>ORIGIN</th>\n",
       "      <th>ORIGIN_CITY_NAME</th>\n",
       "      <th>ORIGIN_STATE_NM</th>\n",
       "      <th>DEST</th>\n",
       "      <th>...</th>\n",
       "      <th>DEP_TIME</th>\n",
       "      <th>DEP_DELAY</th>\n",
       "      <th>DEP_DEL15</th>\n",
       "      <th>ARR_TIME</th>\n",
       "      <th>ARR_DELAY</th>\n",
       "      <th>ARR_DEL15</th>\n",
       "      <th>CANCELLED</th>\n",
       "      <th>AIR_TIME</th>\n",
       "      <th>DISTANCE</th>\n",
       "      <th>Unnamed: 21</th>\n",
       "    </tr>\n",
       "  </thead>\n",
       "  <tbody>\n",
       "    <tr>\n",
       "      <th>0</th>\n",
       "      <td>2020</td>\n",
       "      <td>1</td>\n",
       "      <td>1</td>\n",
       "      <td>3</td>\n",
       "      <td>2020-01-01</td>\n",
       "      <td>WN</td>\n",
       "      <td>ONT</td>\n",
       "      <td>Ontario, CA</td>\n",
       "      <td>California</td>\n",
       "      <td>SFO</td>\n",
       "      <td>...</td>\n",
       "      <td>1851.0</td>\n",
       "      <td>41.0</td>\n",
       "      <td>1.0</td>\n",
       "      <td>2053.0</td>\n",
       "      <td>68.0</td>\n",
       "      <td>1.0</td>\n",
       "      <td>0.0</td>\n",
       "      <td>74.0</td>\n",
       "      <td>363.0</td>\n",
       "      <td>NaN</td>\n",
       "    </tr>\n",
       "    <tr>\n",
       "      <th>1</th>\n",
       "      <td>2020</td>\n",
       "      <td>1</td>\n",
       "      <td>1</td>\n",
       "      <td>3</td>\n",
       "      <td>2020-01-01</td>\n",
       "      <td>WN</td>\n",
       "      <td>ONT</td>\n",
       "      <td>Ontario, CA</td>\n",
       "      <td>California</td>\n",
       "      <td>SFO</td>\n",
       "      <td>...</td>\n",
       "      <td>1146.0</td>\n",
       "      <td>-4.0</td>\n",
       "      <td>0.0</td>\n",
       "      <td>1318.0</td>\n",
       "      <td>-2.0</td>\n",
       "      <td>0.0</td>\n",
       "      <td>0.0</td>\n",
       "      <td>71.0</td>\n",
       "      <td>363.0</td>\n",
       "      <td>NaN</td>\n",
       "    </tr>\n",
       "    <tr>\n",
       "      <th>2</th>\n",
       "      <td>2020</td>\n",
       "      <td>1</td>\n",
       "      <td>1</td>\n",
       "      <td>3</td>\n",
       "      <td>2020-01-01</td>\n",
       "      <td>WN</td>\n",
       "      <td>ONT</td>\n",
       "      <td>Ontario, CA</td>\n",
       "      <td>California</td>\n",
       "      <td>SJC</td>\n",
       "      <td>...</td>\n",
       "      <td>2016.0</td>\n",
       "      <td>-4.0</td>\n",
       "      <td>0.0</td>\n",
       "      <td>2124.0</td>\n",
       "      <td>-6.0</td>\n",
       "      <td>0.0</td>\n",
       "      <td>0.0</td>\n",
       "      <td>57.0</td>\n",
       "      <td>333.0</td>\n",
       "      <td>NaN</td>\n",
       "    </tr>\n",
       "    <tr>\n",
       "      <th>3</th>\n",
       "      <td>2020</td>\n",
       "      <td>1</td>\n",
       "      <td>1</td>\n",
       "      <td>3</td>\n",
       "      <td>2020-01-01</td>\n",
       "      <td>WN</td>\n",
       "      <td>ONT</td>\n",
       "      <td>Ontario, CA</td>\n",
       "      <td>California</td>\n",
       "      <td>SJC</td>\n",
       "      <td>...</td>\n",
       "      <td>1350.0</td>\n",
       "      <td>10.0</td>\n",
       "      <td>0.0</td>\n",
       "      <td>1505.0</td>\n",
       "      <td>10.0</td>\n",
       "      <td>0.0</td>\n",
       "      <td>0.0</td>\n",
       "      <td>63.0</td>\n",
       "      <td>333.0</td>\n",
       "      <td>NaN</td>\n",
       "    </tr>\n",
       "    <tr>\n",
       "      <th>4</th>\n",
       "      <td>2020</td>\n",
       "      <td>1</td>\n",
       "      <td>1</td>\n",
       "      <td>3</td>\n",
       "      <td>2020-01-01</td>\n",
       "      <td>WN</td>\n",
       "      <td>ONT</td>\n",
       "      <td>Ontario, CA</td>\n",
       "      <td>California</td>\n",
       "      <td>SJC</td>\n",
       "      <td>...</td>\n",
       "      <td>916.0</td>\n",
       "      <td>1.0</td>\n",
       "      <td>0.0</td>\n",
       "      <td>1023.0</td>\n",
       "      <td>-12.0</td>\n",
       "      <td>0.0</td>\n",
       "      <td>0.0</td>\n",
       "      <td>57.0</td>\n",
       "      <td>333.0</td>\n",
       "      <td>NaN</td>\n",
       "    </tr>\n",
       "  </tbody>\n",
       "</table>\n",
       "<p>5 rows × 22 columns</p>\n",
       "</div>"
      ],
      "text/plain": [
       "   YEAR  MONTH  DAY_OF_MONTH  DAY_OF_WEEK     FL_DATE OP_UNIQUE_CARRIER  \\\n",
       "0  2020      1             1            3  2020-01-01                WN   \n",
       "1  2020      1             1            3  2020-01-01                WN   \n",
       "2  2020      1             1            3  2020-01-01                WN   \n",
       "3  2020      1             1            3  2020-01-01                WN   \n",
       "4  2020      1             1            3  2020-01-01                WN   \n",
       "\n",
       "  ORIGIN ORIGIN_CITY_NAME ORIGIN_STATE_NM DEST  ... DEP_TIME DEP_DELAY  \\\n",
       "0    ONT      Ontario, CA      California  SFO  ...   1851.0      41.0   \n",
       "1    ONT      Ontario, CA      California  SFO  ...   1146.0      -4.0   \n",
       "2    ONT      Ontario, CA      California  SJC  ...   2016.0      -4.0   \n",
       "3    ONT      Ontario, CA      California  SJC  ...   1350.0      10.0   \n",
       "4    ONT      Ontario, CA      California  SJC  ...    916.0       1.0   \n",
       "\n",
       "   DEP_DEL15  ARR_TIME  ARR_DELAY  ARR_DEL15  CANCELLED  AIR_TIME  DISTANCE  \\\n",
       "0        1.0    2053.0       68.0        1.0        0.0      74.0     363.0   \n",
       "1        0.0    1318.0       -2.0        0.0        0.0      71.0     363.0   \n",
       "2        0.0    2124.0       -6.0        0.0        0.0      57.0     333.0   \n",
       "3        0.0    1505.0       10.0        0.0        0.0      63.0     333.0   \n",
       "4        0.0    1023.0      -12.0        0.0        0.0      57.0     333.0   \n",
       "\n",
       "   Unnamed: 21  \n",
       "0          NaN  \n",
       "1          NaN  \n",
       "2          NaN  \n",
       "3          NaN  \n",
       "4          NaN  \n",
       "\n",
       "[5 rows x 22 columns]"
      ]
     },
     "execution_count": 66,
     "metadata": {},
     "output_type": "execute_result"
    }
   ],
   "source": [
    "#Load flights dataset\n",
    "flights = pd.read_csv('flights.csv')\n",
    "flights.head()"
   ]
  },
  {
   "cell_type": "code",
   "execution_count": 67,
   "metadata": {},
   "outputs": [
    {
     "data": {
      "text/html": [
       "<div>\n",
       "<style scoped>\n",
       "    .dataframe tbody tr th:only-of-type {\n",
       "        vertical-align: middle;\n",
       "    }\n",
       "\n",
       "    .dataframe tbody tr th {\n",
       "        vertical-align: top;\n",
       "    }\n",
       "\n",
       "    .dataframe thead th {\n",
       "        text-align: right;\n",
       "    }\n",
       "</style>\n",
       "<table border=\"1\" class=\"dataframe\">\n",
       "  <thead>\n",
       "    <tr style=\"text-align: right;\">\n",
       "      <th></th>\n",
       "      <th>Code</th>\n",
       "      <th>Description</th>\n",
       "    </tr>\n",
       "  </thead>\n",
       "  <tbody>\n",
       "    <tr>\n",
       "      <th>0</th>\n",
       "      <td>02Q</td>\n",
       "      <td>Titan Airways</td>\n",
       "    </tr>\n",
       "    <tr>\n",
       "      <th>1</th>\n",
       "      <td>04Q</td>\n",
       "      <td>Tradewind Aviation</td>\n",
       "    </tr>\n",
       "    <tr>\n",
       "      <th>2</th>\n",
       "      <td>05Q</td>\n",
       "      <td>Comlux Aviation, AG</td>\n",
       "    </tr>\n",
       "    <tr>\n",
       "      <th>3</th>\n",
       "      <td>06Q</td>\n",
       "      <td>Master Top Linhas Aereas Ltd.</td>\n",
       "    </tr>\n",
       "    <tr>\n",
       "      <th>4</th>\n",
       "      <td>07Q</td>\n",
       "      <td>Flair Airlines Ltd.</td>\n",
       "    </tr>\n",
       "  </tbody>\n",
       "</table>\n",
       "</div>"
      ],
      "text/plain": [
       "  Code                    Description\n",
       "0  02Q                  Titan Airways\n",
       "1  04Q             Tradewind Aviation\n",
       "2  05Q            Comlux Aviation, AG\n",
       "3  06Q  Master Top Linhas Aereas Ltd.\n",
       "4  07Q            Flair Airlines Ltd."
      ]
     },
     "execution_count": 67,
     "metadata": {},
     "output_type": "execute_result"
    }
   ],
   "source": [
    "#Load carriers dataset\n",
    "carriers = pd.read_csv('L_UNIQUE_CARRIERS.csv')\n",
    "carriers.head()"
   ]
  },
  {
   "cell_type": "code",
   "execution_count": 68,
   "metadata": {},
   "outputs": [
    {
     "data": {
      "text/html": [
       "<div>\n",
       "<style scoped>\n",
       "    .dataframe tbody tr th:only-of-type {\n",
       "        vertical-align: middle;\n",
       "    }\n",
       "\n",
       "    .dataframe tbody tr th {\n",
       "        vertical-align: top;\n",
       "    }\n",
       "\n",
       "    .dataframe thead th {\n",
       "        text-align: right;\n",
       "    }\n",
       "</style>\n",
       "<table border=\"1\" class=\"dataframe\">\n",
       "  <thead>\n",
       "    <tr style=\"text-align: right;\">\n",
       "      <th></th>\n",
       "      <th>YEAR</th>\n",
       "      <th>MONTH</th>\n",
       "      <th>DAY_OF_MONTH</th>\n",
       "      <th>DAY_OF_WEEK</th>\n",
       "      <th>FL_DATE</th>\n",
       "      <th>ORIGIN</th>\n",
       "      <th>ORIGIN_CITY_NAME</th>\n",
       "      <th>ORIGIN_STATE_NM</th>\n",
       "      <th>DEST</th>\n",
       "      <th>DEST_CITY_NAME</th>\n",
       "      <th>...</th>\n",
       "      <th>DEP_DELAY</th>\n",
       "      <th>DEP_DEL15</th>\n",
       "      <th>ARR_TIME</th>\n",
       "      <th>ARR_DELAY</th>\n",
       "      <th>ARR_DEL15</th>\n",
       "      <th>CANCELLED</th>\n",
       "      <th>AIR_TIME</th>\n",
       "      <th>DISTANCE</th>\n",
       "      <th>Code</th>\n",
       "      <th>Description</th>\n",
       "    </tr>\n",
       "  </thead>\n",
       "  <tbody>\n",
       "    <tr>\n",
       "      <th>0</th>\n",
       "      <td>2020</td>\n",
       "      <td>1</td>\n",
       "      <td>1</td>\n",
       "      <td>3</td>\n",
       "      <td>2020-01-01</td>\n",
       "      <td>ONT</td>\n",
       "      <td>Ontario, CA</td>\n",
       "      <td>California</td>\n",
       "      <td>SFO</td>\n",
       "      <td>San Francisco, CA</td>\n",
       "      <td>...</td>\n",
       "      <td>41.0</td>\n",
       "      <td>1.0</td>\n",
       "      <td>2053.0</td>\n",
       "      <td>68.0</td>\n",
       "      <td>1.0</td>\n",
       "      <td>0.0</td>\n",
       "      <td>74.0</td>\n",
       "      <td>363.0</td>\n",
       "      <td>WN</td>\n",
       "      <td>Southwest Airlines Co.</td>\n",
       "    </tr>\n",
       "    <tr>\n",
       "      <th>1</th>\n",
       "      <td>2020</td>\n",
       "      <td>1</td>\n",
       "      <td>1</td>\n",
       "      <td>3</td>\n",
       "      <td>2020-01-01</td>\n",
       "      <td>ONT</td>\n",
       "      <td>Ontario, CA</td>\n",
       "      <td>California</td>\n",
       "      <td>SFO</td>\n",
       "      <td>San Francisco, CA</td>\n",
       "      <td>...</td>\n",
       "      <td>-4.0</td>\n",
       "      <td>0.0</td>\n",
       "      <td>1318.0</td>\n",
       "      <td>-2.0</td>\n",
       "      <td>0.0</td>\n",
       "      <td>0.0</td>\n",
       "      <td>71.0</td>\n",
       "      <td>363.0</td>\n",
       "      <td>WN</td>\n",
       "      <td>Southwest Airlines Co.</td>\n",
       "    </tr>\n",
       "    <tr>\n",
       "      <th>2</th>\n",
       "      <td>2020</td>\n",
       "      <td>1</td>\n",
       "      <td>1</td>\n",
       "      <td>3</td>\n",
       "      <td>2020-01-01</td>\n",
       "      <td>ONT</td>\n",
       "      <td>Ontario, CA</td>\n",
       "      <td>California</td>\n",
       "      <td>SJC</td>\n",
       "      <td>San Jose, CA</td>\n",
       "      <td>...</td>\n",
       "      <td>-4.0</td>\n",
       "      <td>0.0</td>\n",
       "      <td>2124.0</td>\n",
       "      <td>-6.0</td>\n",
       "      <td>0.0</td>\n",
       "      <td>0.0</td>\n",
       "      <td>57.0</td>\n",
       "      <td>333.0</td>\n",
       "      <td>WN</td>\n",
       "      <td>Southwest Airlines Co.</td>\n",
       "    </tr>\n",
       "    <tr>\n",
       "      <th>3</th>\n",
       "      <td>2020</td>\n",
       "      <td>1</td>\n",
       "      <td>1</td>\n",
       "      <td>3</td>\n",
       "      <td>2020-01-01</td>\n",
       "      <td>ONT</td>\n",
       "      <td>Ontario, CA</td>\n",
       "      <td>California</td>\n",
       "      <td>SJC</td>\n",
       "      <td>San Jose, CA</td>\n",
       "      <td>...</td>\n",
       "      <td>10.0</td>\n",
       "      <td>0.0</td>\n",
       "      <td>1505.0</td>\n",
       "      <td>10.0</td>\n",
       "      <td>0.0</td>\n",
       "      <td>0.0</td>\n",
       "      <td>63.0</td>\n",
       "      <td>333.0</td>\n",
       "      <td>WN</td>\n",
       "      <td>Southwest Airlines Co.</td>\n",
       "    </tr>\n",
       "    <tr>\n",
       "      <th>4</th>\n",
       "      <td>2020</td>\n",
       "      <td>1</td>\n",
       "      <td>1</td>\n",
       "      <td>3</td>\n",
       "      <td>2020-01-01</td>\n",
       "      <td>ONT</td>\n",
       "      <td>Ontario, CA</td>\n",
       "      <td>California</td>\n",
       "      <td>SJC</td>\n",
       "      <td>San Jose, CA</td>\n",
       "      <td>...</td>\n",
       "      <td>1.0</td>\n",
       "      <td>0.0</td>\n",
       "      <td>1023.0</td>\n",
       "      <td>-12.0</td>\n",
       "      <td>0.0</td>\n",
       "      <td>0.0</td>\n",
       "      <td>57.0</td>\n",
       "      <td>333.0</td>\n",
       "      <td>WN</td>\n",
       "      <td>Southwest Airlines Co.</td>\n",
       "    </tr>\n",
       "  </tbody>\n",
       "</table>\n",
       "<p>5 rows × 22 columns</p>\n",
       "</div>"
      ],
      "text/plain": [
       "   YEAR  MONTH  DAY_OF_MONTH  DAY_OF_WEEK     FL_DATE ORIGIN ORIGIN_CITY_NAME  \\\n",
       "0  2020      1             1            3  2020-01-01    ONT      Ontario, CA   \n",
       "1  2020      1             1            3  2020-01-01    ONT      Ontario, CA   \n",
       "2  2020      1             1            3  2020-01-01    ONT      Ontario, CA   \n",
       "3  2020      1             1            3  2020-01-01    ONT      Ontario, CA   \n",
       "4  2020      1             1            3  2020-01-01    ONT      Ontario, CA   \n",
       "\n",
       "  ORIGIN_STATE_NM DEST     DEST_CITY_NAME  ... DEP_DELAY  DEP_DEL15  ARR_TIME  \\\n",
       "0      California  SFO  San Francisco, CA  ...      41.0        1.0    2053.0   \n",
       "1      California  SFO  San Francisco, CA  ...      -4.0        0.0    1318.0   \n",
       "2      California  SJC       San Jose, CA  ...      -4.0        0.0    2124.0   \n",
       "3      California  SJC       San Jose, CA  ...      10.0        0.0    1505.0   \n",
       "4      California  SJC       San Jose, CA  ...       1.0        0.0    1023.0   \n",
       "\n",
       "   ARR_DELAY  ARR_DEL15  CANCELLED  AIR_TIME  DISTANCE  Code  \\\n",
       "0       68.0        1.0        0.0      74.0     363.0    WN   \n",
       "1       -2.0        0.0        0.0      71.0     363.0    WN   \n",
       "2       -6.0        0.0        0.0      57.0     333.0    WN   \n",
       "3       10.0        0.0        0.0      63.0     333.0    WN   \n",
       "4      -12.0        0.0        0.0      57.0     333.0    WN   \n",
       "\n",
       "              Description  \n",
       "0  Southwest Airlines Co.  \n",
       "1  Southwest Airlines Co.  \n",
       "2  Southwest Airlines Co.  \n",
       "3  Southwest Airlines Co.  \n",
       "4  Southwest Airlines Co.  \n",
       "\n",
       "[5 rows x 22 columns]"
      ]
     },
     "execution_count": 68,
     "metadata": {},
     "output_type": "execute_result"
    }
   ],
   "source": [
    "#Drop unnecessary columns and merge flights and carriers dataset\n",
    "flights.drop(['Unnamed: 21'], axis = 1, inplace = True)\n",
    "flights = pd.merge(flights, carriers, left_on = 'OP_UNIQUE_CARRIER', right_on = 'Code', how = \"left\")\n",
    "flights.drop(['OP_UNIQUE_CARRIER'], axis = 1, inplace = True)\n",
    "\n",
    "#print(flights.dtypes)\n",
    "flights.head()"
   ]
  },
  {
   "cell_type": "code",
   "execution_count": 69,
   "metadata": {},
   "outputs": [],
   "source": [
    "#Change the datatype of variables \n",
    "col = ['MONTH', 'DAY_OF_MONTH','DAY_OF_WEEK','DEP_DEL15','ARR_DEL15','CANCELLED']\n",
    "flights[col] = flights[col].astype('object')\n",
    "\n",
    "flights['FL_DATE'] = pd.to_datetime(flights['FL_DATE'])\n",
    "\n",
    "col2 = ['DEP_TIME', 'ARR_TIME', 'DEP_DELAY', 'ARR_DELAY', 'AIR_TIME']\n",
    "flights[col2] = flights[col2].round(0).astype('Int64')\n",
    "#print(flights.dtypes)"
   ]
  },
  {
   "cell_type": "code",
   "execution_count": 70,
   "metadata": {},
   "outputs": [],
   "source": [
    "#Create DEP_HOUR and ARR_HOUR by extracting hour from DEP_TIME and ARR_TIME\n",
    "flights.DEP_TIME[flights.DEP_TIME<100] = np.nan\n",
    "flights.DEP_HOUR = ''\n",
    "flights.DEP_HOUR = flights.DEP_TIME//100\n",
    "flights.DEP_HOUR = flights.DEP_HOUR.mask(flights.DEP_HOUR==24, 0)\n",
    "\n",
    "flights.ARR_TIME[flights.ARR_TIME<100] = np.nan\n",
    "flights.ARR_HOUR = ''\n",
    "flights.ARR_HOUR = flights.ARR_TIME//100\n",
    "flights.ARR_HOUR = flights.ARR_HOUR.mask(flights.DEP_HOUR==24, 0)"
   ]
  },
  {
   "cell_type": "code",
   "execution_count": 72,
   "metadata": {},
   "outputs": [],
   "source": [
    "#Map variable value days\n",
    "flights.DAY_OF_WEEK.replace({'1':'Monday', '2':'Tuesday', '3':'Wednesday', '4':'Thursday', '5':'Friday', '6':'Saturday', '7':'Sunday'}, inplace = True)\n",
    "\n",
    "#Create DEP_TIME_AM column\n",
    "flights.DEP_TIME_AM = ''\n",
    "flights.DEP_TIME_AM = np.where(flights.DEP_HOUR.isin(['0', '1', '2', '3', '4', '5', '6', '7', '8', '9', '10', '11']), 'AM', 'PM') \n",
    "\n",
    "\n",
    "#Create WEEKDAY_WEEKEND column\n",
    "flights.WEEKDAY_WEEKEND = ''\n",
    "flights.WEEKDAY_WEEKEND = np.where(flights.DAY_OF_WEEK.isin(['Saturday', 'Sunday']),'Weekend', 'Weekday') \n",
    "\n",
    "flights=flights.mask(flights == '')\n",
    "#flights.head()"
   ]
  },
  {
   "cell_type": "code",
   "execution_count": 75,
   "metadata": {},
   "outputs": [
    {
     "name": "stdout",
     "output_type": "stream",
     "text": [
      "YEAR                    0\n",
      "MONTH                   0\n",
      "DAY_OF_MONTH            0\n",
      "DAY_OF_WEEK             0\n",
      "FL_DATE                 0\n",
      "ORIGIN                  0\n",
      "ORIGIN_CITY_NAME        0\n",
      "ORIGIN_STATE_NM         0\n",
      "DEST                    0\n",
      "DEST_CITY_NAME          0\n",
      "DEST_STATE_NM           0\n",
      "DEP_TIME             8347\n",
      "DEP_DELAY            6699\n",
      "DEP_DEL15            6699\n",
      "ARR_TIME            17457\n",
      "ARR_DELAY            8078\n",
      "ARR_DEL15            8078\n",
      "CANCELLED               0\n",
      "AIR_TIME             8078\n",
      "DISTANCE                0\n",
      "Code                    0\n",
      "Description             0\n",
      "dtype: int64\n"
     ]
    }
   ],
   "source": [
    "#Check data shape and data types\n",
    "#print(flights.shape)\n",
    "print(flights.isna().sum())"
   ]
  },
  {
   "cell_type": "code",
   "execution_count": 24,
   "metadata": {},
   "outputs": [
    {
     "name": "stdout",
     "output_type": "stream",
     "text": [
      "           YEAR    DAY_OF_WEEK     DEP_TIME      DEP_DELAY     ARR_TIME  \\\n",
      "count  607346.0  607346.000000     598999.0  600647.000000     589889.0   \n",
      "mean     2020.0       3.955735  1335.173095       6.181221  1503.560083   \n",
      "std         0.0       1.910205   492.965136      43.181905   493.139362   \n",
      "min      2020.0       1.000000        100.0     -58.000000        100.0   \n",
      "25%      2020.0       2.000000        921.0      -6.000000       1111.0   \n",
      "50%      2020.0       4.000000       1328.0      -3.000000       1521.0   \n",
      "75%      2020.0       5.000000       1740.0       2.000000       1922.0   \n",
      "max      2020.0       7.000000       2400.0    2489.000000       2400.0   \n",
      "\n",
      "           ARR_DELAY       AIR_TIME       DISTANCE  \n",
      "count  599268.000000  599268.000000  607346.000000  \n",
      "mean       -1.620799     112.187437     798.022341  \n",
      "std        45.015546      70.629553     587.282639  \n",
      "min       -96.000000       8.000000      31.000000  \n",
      "25%       -18.000000      61.000000     369.000000  \n",
      "50%       -10.000000      94.000000     641.000000  \n",
      "75%         2.000000     142.000000    1037.000000  \n",
      "max      2536.000000     698.000000    5095.000000  \n"
     ]
    }
   ],
   "source": [
    "#Check descriptive statistics\n",
    "print(flights.describe())"
   ]
  },
  {
   "attachments": {},
   "cell_type": "markdown",
   "metadata": {},
   "source": [
    "## DATA EXPLORATION\n",
    "\n",
    "### Univariate Exploration\n",
    "\n",
    "> In this section, I investigate distributions of individual variables. I investigate which features are most related to flight delay and cancellation."
   ]
  },
  {
   "attachments": {},
   "cell_type": "markdown",
   "metadata": {},
   "source": [
    "### Departure Delayed Flights\n",
    "\n",
    "#### **DEP_DEL15** : Departure Delay Indicator, 15 Minutes or More"
   ]
  },
  {
   "cell_type": "code",
   "execution_count": 26,
   "metadata": {},
   "outputs": [],
   "source": [
    "#Create function to plot pie charts of categorical features\n",
    "def plot_pie(col):\n",
    "    data = flights.groupby(flights[col]).size()\n",
    "\n",
    "    plt.figure(figsize = (6,6))\n",
    "    labels=['No', 'Yes']\n",
    "    explode=(0,.1)\n",
    "    colors = ['#ff9999','#66b3ff']\n",
    "    textprops={'fontsize': 12}\n",
    "    data.plot(kind='pie', autopct='%.2f%%', explode=explode, labels=labels, ylabel='', colors=colors, textprops=textprops, legend=True)\n",
    "    plt.title(\"Pie Chart of \"+col)\n",
    "    "
   ]
  },
  {
   "cell_type": "code",
   "execution_count": 27,
   "metadata": {},
   "outputs": [
    {
     "data": {
      "image/png": "[encoded data removed]",
      "text/plain": [
       "<Figure size 600x600 with 1 Axes>"
      ]
     },
     "metadata": {},
     "output_type": "display_data"
    }
   ],
   "source": [
    "plot_pie('DEP_DEL15')"
   ]
  },
  {
   "attachments": {},
   "cell_type": "markdown",
   "metadata": {},
   "source": [
    "#### **DEP_DELAY** : Difference between scheduled and actual departure time"
   ]
  },
  {
   "cell_type": "code",
   "execution_count": 28,
   "metadata": {},
   "outputs": [],
   "source": [
    "#Create function to plot histogram and boxplot of continuous features\n",
    "def plot_distribution(col, step=5):\n",
    "    \n",
    "    #Filter NA values\n",
    "    filtered_data = flights[~np.isnan(flights[col])]\n",
    "    \n",
    "    bin_edges = np.arange(filtered_data[col].min()- step, filtered_data[col].max()+step, step)\n",
    "    x_min, x_max = filtered_data[col].quantile(0.01)- step, filtered_data[col].quantile(0.99)+step\n",
    "\n",
    "    #Plot histogram\n",
    "    plt.figure(figsize = [15,6])\n",
    "    plt.subplot(2,1,1)\n",
    "    plt.hist(filtered_data[col], bins=bin_edges)\n",
    "    #Add delay indicator for DEP_DELAY and ARR_DELAY\n",
    "    if col==\"DEP_DELAY\" or \"ARR_DELAY\":\n",
    "        plt.axvline(15, color='k', linestyle='--')\n",
    "    plt.xlim(x_min, x_max)\n",
    "    plt.xticks(np.arange(x_min,x_max,step), fontsize=6)\n",
    "    plt.title('Distribution of '+col)\n",
    "\n",
    "    #Plot Boxplot\n",
    "    plt.subplot(2,1,2)\n",
    "    plt.boxplot(x=filtered_data[col], vert=False, showfliers=False)\n",
    "    #Add delay indicator for DEP_DELAY and ARR_DELAY\n",
    "    if col==\"DEP_DELAY\" or \"ARR_DELAY\":\n",
    "        plt.axvline(15, color='k', linestyle='--')\n",
    "    plt.xlim(x_min,x_max)\n",
    "    plt.xticks(np.arange(x_min,x_max,step), fontsize=6)\n",
    "\n",
    "    if col==\"DISTANCE\":\n",
    "        plt.xlabel(col+\"(miles)\")  \n",
    "    else:\n",
    "        plt.xlabel(col+\"(min)\")\n"
   ]
  },
  {
   "attachments": {},
   "cell_type": "markdown",
   "metadata": {},
   "source": [
    "> 13.6% of all 2020 January flights were departure delayed for more than 15 minutes. Most planes departed in betweeen 20 minutes prior to and 20 minutes after actual departure time. The overall distribution is skewed to the right; there are planes that departed more than 60 minutes after the actual departure time. The maximum delayed departure is 2489 minutes (41.5 hours). \n",
    "\n",
    "### Arrival Delayed Flights\n",
    "\n",
    "#### **ARR_DEL15** : Arrival Delay Indicator, 15 Minutes or More"
   ]
  },
  {
   "cell_type": "code",
   "execution_count": null,
   "metadata": {},
   "outputs": [],
   "source": [
    "plot_pie('ARR_DEL15')"
   ]
  },
  {
   "cell_type": "code",
   "execution_count": null,
   "metadata": {},
   "outputs": [],
   "source": [
    "plot_distribution('ARR_DELAY')"
   ]
  },
  {
   "attachments": {},
   "cell_type": "markdown",
   "metadata": {},
   "source": [
    "> 13.7% of all 2020 January flights were arrival delayed for more than 15 minutes. Most planes arrived in betweeen 40 minutes prior to and 40 minutes after of actual departure time. The overall distribution is approximately normal; there are planes that arrive as early as 60 minutes prior to and 60 minutes after the actual arrival time. The maximum delayed arrival is 2536 minutes (42.3 hours). \n",
    "\n",
    "\n",
    "### Cancelled Flights\n",
    "\n",
    "#### **CANCELLED** : Cancelled Flight Indicator (1=Yes; 0=NO)"
   ]
  },
  {
   "cell_type": "code",
   "execution_count": null,
   "metadata": {},
   "outputs": [],
   "source": [
    "plot_pie('CANCELLED')"
   ]
  },
  {
   "attachments": {},
   "cell_type": "markdown",
   "metadata": {},
   "source": [
    "> 1.14% of all 2020 January flights were cancelled.\n",
    "\n",
    "### Flight Air Time\n",
    "\n",
    "#### **AIR_TIME** : Flight Time "
   ]
  },
  {
   "cell_type": "code",
   "execution_count": null,
   "metadata": {},
   "outputs": [],
   "source": [
    "plot_distribution('AIR_TIME')"
   ]
  },
  {
   "attachments": {},
   "cell_type": "markdown",
   "metadata": {},
   "source": [
    "> Most flights have an air time between 30 minutes and 200 minutes. The distribution has a long right tail (outliers to the right). The maximum air time is 698 minutes. \n",
    "\n",
    "### Flight Distance\n",
    "#### DISTANCE"
   ]
  },
  {
   "cell_type": "code",
   "execution_count": null,
   "metadata": {},
   "outputs": [],
   "source": [
    "plot_distribution('DISTANCE',step=50)"
   ]
  },
  {
   "cell_type": "markdown",
   "metadata": {},
   "source": [
    "> Most flights have distance between 300 miles and 1800 miles. Like the distribtuions above, the distribution has a long right tail (outliers to the right). The maximum air time is 5095 miles.\n",
    "\n",
    "\n",
    "### What is the distribution of flight departure time (hour)?"
   ]
  },
  {
   "cell_type": "code",
   "execution_count": 109,
   "metadata": {},
   "outputs": [
    {
     "ename": "ValueError",
     "evalue": "Could not interpret input 'DEP_HOUR'",
     "output_type": "error",
     "traceback": [
      "\u001b[0;31m---------------------------------------------------------------------------\u001b[0m",
      "\u001b[0;31mValueError\u001b[0m                                Traceback (most recent call last)",
      "\u001b[0;32m/var/folders/s_/0__53kt14ws4xc_4xzfr35sc0000gn/T/ipykernel_8367/2964918990.py\u001b[0m in \u001b[0;36m<module>\u001b[0;34m\u001b[0m\n\u001b[1;32m      5\u001b[0m sns.countplot(data = flights, x = 'DEP_HOUR',\n\u001b[1;32m      6\u001b[0m               \u001b[0morder\u001b[0m \u001b[0;34m=\u001b[0m \u001b[0;34m[\u001b[0m\u001b[0;34m'0'\u001b[0m\u001b[0;34m,\u001b[0m \u001b[0;34m'1'\u001b[0m\u001b[0;34m,\u001b[0m \u001b[0;34m'2'\u001b[0m\u001b[0;34m,\u001b[0m \u001b[0;34m'3'\u001b[0m\u001b[0;34m,\u001b[0m \u001b[0;34m'4'\u001b[0m\u001b[0;34m,\u001b[0m \u001b[0;34m'5'\u001b[0m\u001b[0;34m,\u001b[0m \u001b[0;34m'6'\u001b[0m\u001b[0;34m,\u001b[0m \u001b[0;34m'7'\u001b[0m\u001b[0;34m,\u001b[0m \u001b[0;34m'8'\u001b[0m\u001b[0;34m,\u001b[0m \u001b[0;34m'9'\u001b[0m\u001b[0;34m,\u001b[0m \u001b[0;34m'10'\u001b[0m\u001b[0;34m,\u001b[0m \u001b[0;34m'11'\u001b[0m\u001b[0;34m,\u001b[0m \u001b[0;34m'12'\u001b[0m\u001b[0;34m,\u001b[0m \u001b[0;34m'13'\u001b[0m\u001b[0;34m,\u001b[0m \u001b[0;34m'14'\u001b[0m\u001b[0;34m,\u001b[0m \u001b[0;34m'15'\u001b[0m\u001b[0;34m,\u001b[0m \u001b[0;34m'16'\u001b[0m\u001b[0;34m,\u001b[0m \u001b[0;34m'17'\u001b[0m\u001b[0;34m,\u001b[0m \u001b[0;34m'18'\u001b[0m\u001b[0;34m,\u001b[0m \u001b[0;34m'19'\u001b[0m\u001b[0;34m,\u001b[0m \u001b[0;34m'20'\u001b[0m\u001b[0;34m,\u001b[0m \u001b[0;34m'21'\u001b[0m\u001b[0;34m,\u001b[0m \u001b[0;34m'22'\u001b[0m\u001b[0;34m,\u001b[0m \u001b[0;34m'23'\u001b[0m\u001b[0;34m]\u001b[0m\u001b[0;34m,\u001b[0m\u001b[0;34m\u001b[0m\u001b[0;34m\u001b[0m\u001b[0m\n\u001b[0;32m----> 7\u001b[0;31m              color = base_color)\n\u001b[0m\u001b[1;32m      8\u001b[0m \u001b[0mplt\u001b[0m\u001b[0;34m.\u001b[0m\u001b[0mtitle\u001b[0m\u001b[0;34m(\u001b[0m\u001b[0;34m'Flights by Departure Hour'\u001b[0m\u001b[0;34m)\u001b[0m\u001b[0;34m\u001b[0m\u001b[0;34m\u001b[0m\u001b[0m\n\u001b[1;32m      9\u001b[0m \u001b[0;34m\u001b[0m\u001b[0m\n",
      "\u001b[0;32m/opt/anaconda3/lib/python3.7/site-packages/seaborn/_decorators.py\u001b[0m in \u001b[0;36minner_f\u001b[0;34m(*args, **kwargs)\u001b[0m\n\u001b[1;32m     44\u001b[0m             )\n\u001b[1;32m     45\u001b[0m         \u001b[0mkwargs\u001b[0m\u001b[0;34m.\u001b[0m\u001b[0mupdate\u001b[0m\u001b[0;34m(\u001b[0m\u001b[0;34m{\u001b[0m\u001b[0mk\u001b[0m\u001b[0;34m:\u001b[0m \u001b[0marg\u001b[0m \u001b[0;32mfor\u001b[0m \u001b[0mk\u001b[0m\u001b[0;34m,\u001b[0m \u001b[0marg\u001b[0m \u001b[0;32min\u001b[0m \u001b[0mzip\u001b[0m\u001b[0;34m(\u001b[0m\u001b[0msig\u001b[0m\u001b[0;34m.\u001b[0m\u001b[0mparameters\u001b[0m\u001b[0;34m,\u001b[0m \u001b[0margs\u001b[0m\u001b[0;34m)\u001b[0m\u001b[0;34m}\u001b[0m\u001b[0;34m)\u001b[0m\u001b[0;34m\u001b[0m\u001b[0;34m\u001b[0m\u001b[0m\n\u001b[0;32m---> 46\u001b[0;31m         \u001b[0;32mreturn\u001b[0m \u001b[0mf\u001b[0m\u001b[0;34m(\u001b[0m\u001b[0;34m**\u001b[0m\u001b[0mkwargs\u001b[0m\u001b[0;34m)\u001b[0m\u001b[0;34m\u001b[0m\u001b[0;34m\u001b[0m\u001b[0m\n\u001b[0m\u001b[1;32m     47\u001b[0m     \u001b[0;32mreturn\u001b[0m \u001b[0minner_f\u001b[0m\u001b[0;34m\u001b[0m\u001b[0;34m\u001b[0m\u001b[0m\n\u001b[1;32m     48\u001b[0m \u001b[0;34m\u001b[0m\u001b[0m\n",
      "\u001b[0;32m/opt/anaconda3/lib/python3.7/site-packages/seaborn/categorical.py\u001b[0m in \u001b[0;36mcountplot\u001b[0;34m(x, y, hue, data, order, hue_order, orient, color, palette, saturation, dodge, ax, **kwargs)\u001b[0m\n\u001b[1;32m   3587\u001b[0m         \u001b[0mestimator\u001b[0m\u001b[0;34m,\u001b[0m \u001b[0mci\u001b[0m\u001b[0;34m,\u001b[0m \u001b[0mn_boot\u001b[0m\u001b[0;34m,\u001b[0m \u001b[0munits\u001b[0m\u001b[0;34m,\u001b[0m \u001b[0mseed\u001b[0m\u001b[0;34m,\u001b[0m\u001b[0;34m\u001b[0m\u001b[0;34m\u001b[0m\u001b[0m\n\u001b[1;32m   3588\u001b[0m         \u001b[0morient\u001b[0m\u001b[0;34m,\u001b[0m \u001b[0mcolor\u001b[0m\u001b[0;34m,\u001b[0m \u001b[0mpalette\u001b[0m\u001b[0;34m,\u001b[0m \u001b[0msaturation\u001b[0m\u001b[0;34m,\u001b[0m\u001b[0;34m\u001b[0m\u001b[0;34m\u001b[0m\u001b[0m\n\u001b[0;32m-> 3589\u001b[0;31m         \u001b[0merrcolor\u001b[0m\u001b[0;34m,\u001b[0m \u001b[0merrwidth\u001b[0m\u001b[0;34m,\u001b[0m \u001b[0mcapsize\u001b[0m\u001b[0;34m,\u001b[0m \u001b[0mdodge\u001b[0m\u001b[0;34m\u001b[0m\u001b[0;34m\u001b[0m\u001b[0m\n\u001b[0m\u001b[1;32m   3590\u001b[0m     )\n\u001b[1;32m   3591\u001b[0m \u001b[0;34m\u001b[0m\u001b[0m\n",
      "\u001b[0;32m/opt/anaconda3/lib/python3.7/site-packages/seaborn/categorical.py\u001b[0m in \u001b[0;36m__init__\u001b[0;34m(self, x, y, hue, data, order, hue_order, estimator, ci, n_boot, units, seed, orient, color, palette, saturation, errcolor, errwidth, capsize, dodge)\u001b[0m\n\u001b[1;32m   1583\u001b[0m         \u001b[0;34m\"\"\"Initialize the plotter.\"\"\"\u001b[0m\u001b[0;34m\u001b[0m\u001b[0;34m\u001b[0m\u001b[0m\n\u001b[1;32m   1584\u001b[0m         self.establish_variables(x, y, hue, data, orient,\n\u001b[0;32m-> 1585\u001b[0;31m                                  order, hue_order, units)\n\u001b[0m\u001b[1;32m   1586\u001b[0m         \u001b[0mself\u001b[0m\u001b[0;34m.\u001b[0m\u001b[0mestablish_colors\u001b[0m\u001b[0;34m(\u001b[0m\u001b[0mcolor\u001b[0m\u001b[0;34m,\u001b[0m \u001b[0mpalette\u001b[0m\u001b[0;34m,\u001b[0m \u001b[0msaturation\u001b[0m\u001b[0;34m)\u001b[0m\u001b[0;34m\u001b[0m\u001b[0;34m\u001b[0m\u001b[0m\n\u001b[1;32m   1587\u001b[0m         \u001b[0mself\u001b[0m\u001b[0;34m.\u001b[0m\u001b[0mestimate_statistic\u001b[0m\u001b[0;34m(\u001b[0m\u001b[0mestimator\u001b[0m\u001b[0;34m,\u001b[0m \u001b[0mci\u001b[0m\u001b[0;34m,\u001b[0m \u001b[0mn_boot\u001b[0m\u001b[0;34m,\u001b[0m \u001b[0mseed\u001b[0m\u001b[0;34m)\u001b[0m\u001b[0;34m\u001b[0m\u001b[0;34m\u001b[0m\u001b[0m\n",
      "\u001b[0;32m/opt/anaconda3/lib/python3.7/site-packages/seaborn/categorical.py\u001b[0m in \u001b[0;36mestablish_variables\u001b[0;34m(self, x, y, hue, data, orient, order, hue_order, units)\u001b[0m\n\u001b[1;32m    151\u001b[0m                 \u001b[0;32mif\u001b[0m \u001b[0misinstance\u001b[0m\u001b[0;34m(\u001b[0m\u001b[0mvar\u001b[0m\u001b[0;34m,\u001b[0m \u001b[0mstr\u001b[0m\u001b[0;34m)\u001b[0m\u001b[0;34m:\u001b[0m\u001b[0;34m\u001b[0m\u001b[0;34m\u001b[0m\u001b[0m\n\u001b[1;32m    152\u001b[0m                     \u001b[0merr\u001b[0m \u001b[0;34m=\u001b[0m \u001b[0;34m\"Could not interpret input '{}'\"\u001b[0m\u001b[0;34m.\u001b[0m\u001b[0mformat\u001b[0m\u001b[0;34m(\u001b[0m\u001b[0mvar\u001b[0m\u001b[0;34m)\u001b[0m\u001b[0;34m\u001b[0m\u001b[0;34m\u001b[0m\u001b[0m\n\u001b[0;32m--> 153\u001b[0;31m                     \u001b[0;32mraise\u001b[0m \u001b[0mValueError\u001b[0m\u001b[0;34m(\u001b[0m\u001b[0merr\u001b[0m\u001b[0;34m)\u001b[0m\u001b[0;34m\u001b[0m\u001b[0;34m\u001b[0m\u001b[0m\n\u001b[0m\u001b[1;32m    154\u001b[0m \u001b[0;34m\u001b[0m\u001b[0m\n\u001b[1;32m    155\u001b[0m             \u001b[0;31m# Figure out the plotting orientation\u001b[0m\u001b[0;34m\u001b[0m\u001b[0;34m\u001b[0m\u001b[0;34m\u001b[0m\u001b[0m\n",
      "\u001b[0;31mValueError\u001b[0m: Could not interpret input 'DEP_HOUR'"
     ]
    },
    {
     "data": {
      "image/png": "[encoded data removed]",
      "text/plain": [
       "<Figure size 1800x1000 with 1 Axes>"
      ]
     },
     "metadata": {},
     "output_type": "display_data"
    }
   ],
   "source": [
    "plt.figure(figsize=(18,10))\n",
    "\n",
    "plt.subplot(2,2,1)\n",
    "base_color = sns.color_palette()[0]\n",
    "sns.countplot(data = flights, x = 'DEP_HOUR',\n",
    "              order = ['0', '1', '2', '3', '4', '5', '6', '7', '8', '9', '10', '11', '12', '13', '14', '15', '16', '17', '18', '19', '20', '21', '22', '23'],\n",
    "             color = base_color)\n",
    "plt.title('Flights by Departure Hour')\n",
    "\n",
    "plt.subplot(2,1,2);\n",
    "sns.countplot(data = flights.dropna(), x = 'DEP_TIME_AM',\n",
    "             order = ['AM', 'PM'],\n",
    "             color = base_color);"
   ]
  },
  {
   "cell_type": "markdown",
   "metadata": {},
   "source": [
    "> Most flights depart between 5AM and 11PM in January 2020. There are more flights that depart during the afternoon. 6AM, 11AM, 12PM, and 5PM have the most number of flights that depart. \n",
    "\n",
    "### What is the distribution of flight departure by day of  week?"
   ]
  },
  {
   "cell_type": "code",
   "execution_count": null,
   "metadata": {},
   "outputs": [],
   "source": [
    "plt.figure(figsize=(18,10))\n",
    "\n",
    "plt.subplot(2,1,1)\n",
    "base_color = sb.color_palette()[0]\n",
    "sb.countplot(data = flights, x = 'DAY_OF_WEEK', \n",
    "             order=['Monday','Tuesday','Wednesday','Thursday','Friday','Saturday', 'Sunday'], \n",
    "             color = base_color)\n",
    "plt.title('Flights by Day of Week');\n",
    "plt.subplot(2,1,2);\n",
    "sb.countplot(data = flights.dropna(), x = 'WEEKDAY_WEEKEND',\n",
    "             order = ['Weekday', 'Weekend'],\n",
    "             color = base_color);"
   ]
  },
  {
   "cell_type": "markdown",
   "metadata": {},
   "source": [
    "> In January 2020, Thursday and Friday has the greatest amount of flights. Threre are about threet times more flights during the weekday. Saturday has the least amount of flights, followed by Tuesday. \n",
    "\n",
    "### What is the distribution of flights by state?"
   ]
  },
  {
   "cell_type": "code",
   "execution_count": null,
   "metadata": {},
   "outputs": [],
   "source": [
    "plt.figure(figsize=[10, 12])\n",
    "base_coloor = sb.color_palette()[0]\n",
    "gen_order = flights['ORIGIN_STATE_NM'].value_counts().index\n",
    "sb.countplot(data = flights, y = 'ORIGIN_STATE_NM', color = base_color, order = gen_order);"
   ]
  },
  {
   "cell_type": "markdown",
   "metadata": {},
   "source": [
    "> The states with the most number of planes flying out from is California, Texas, Florida, Georgia, Illinois (in that order).\n",
    "\n",
    "### What is the distribution of flights by origin airport?"
   ]
  },
  {
   "cell_type": "code",
   "execution_count": null,
   "metadata": {},
   "outputs": [],
   "source": [
    "plt.figure(figsize=[16,4])\n",
    "\n",
    "origin = flights.ORIGIN.value_counts().nlargest(20)\n",
    "plt.bar(origin.index, origin)\n",
    "plt.title('Flight Count by Origin Airport (top 20)');"
   ]
  },
  {
   "cell_type": "markdown",
   "metadata": {},
   "source": [
    "> The airports with the most number of planes flying out from is ATL, ORD, DFW, DEN, CLT, LAX, PHX (in that order). \n",
    "\n",
    "### What is the distribution of flights by carrier?"
   ]
  },
  {
   "cell_type": "code",
   "execution_count": null,
   "metadata": {},
   "outputs": [],
   "source": [
    "plt.figure(figsize=[16,4])\n",
    "\n",
    "carrier = flights.Description.value_counts().nlargest(20)\n",
    "plt.bar(carrier.index, carrier)\n",
    "plt.xticks(rotation = 90)\n",
    "plt.title('Flight Count by Carrier (top 20)');"
   ]
  },
  {
   "cell_type": "markdown",
   "metadata": {},
   "source": [
    "> The carriers with the most number of flights is Soutwest Airlines, Delta Air Lines, American Airlines, SkyWest Airlines, United Air Lines, Republic Airline (in that order);"
   ]
  },
  {
   "cell_type": "markdown",
   "metadata": {},
   "source": [
    "### Discuss the distribution(s) of your variable(s) of interest. Were there any unusual points? Did you need to perform any transformations?\n",
    "\n",
    "> Distribution of departure and arrival delays were similar and about 14% of all planes were delayed over 15 minutes. Also, departure and arrival times were mostly within 30 minutes of the scheduled time, but there were also a lot of outliers - planes delayed over 60 minutes (maximum delay was 2489 minutes). The highest count of planes was during 6AM, 11AM, 12PM, and 5PM and on Thursdays and Fridays. The highest number of flights occured in CA, ATL, and Soutwest Airlines. \n",
    "\n",
    "### Of the features you investigated, were there any unusual distributions? Did you perform any operations on the data to tidy, adjust, or change the form of the data? If so, why did you do this?\n",
    "\n",
    "> Departure and arrival delay distributions were skewed to the right; most of the planes were centered around the mean, but the distribtuion had a long right tail as there were a number of planes that were delayed over 60 minutes. To look at the count of flights by the time of day, I had to create a new column _DEP_HOUR_ from the _DEP_TIME_ column which was in the format(hhmm) by extracting only the hour. "
   ]
  },
  {
   "cell_type": "markdown",
   "metadata": {},
   "source": [
    "## Bivariate Exploration\n",
    "\n",
    "> In this section, the relationships between pairs of variables are investigated. The variables used in this section have been convered in the previouos section (univariate exploration). "
   ]
  },
  {
   "cell_type": "markdown",
   "metadata": {},
   "source": [
    "### What is the relationship between departure delay, arrival delay, air time, and distance? "
   ]
  },
  {
   "cell_type": "code",
   "execution_count": null,
   "metadata": {},
   "outputs": [],
   "source": [
    "flights.columns"
   ]
  },
  {
   "cell_type": "code",
   "execution_count": null,
   "metadata": {},
   "outputs": [],
   "source": [
    "num_vars = ['DEP_DELAY', 'ARR_DELAY', 'AIR_TIME', 'DISTANCE']"
   ]
  },
  {
   "cell_type": "code",
   "execution_count": null,
   "metadata": {},
   "outputs": [],
   "source": [
    "plt.figure(figsize = [10, 8])\n",
    "sb.heatmap(flights[num_vars].corr(), annot = True, fmt = '.3f',\n",
    "           cmap = 'vlag_r', center = 0)\n",
    "plt.show()"
   ]
  },
  {
   "cell_type": "code",
   "execution_count": null,
   "metadata": {},
   "outputs": [],
   "source": [
    "samples = np.random.choice(flights.shape[0], 500, replace = False)\n",
    "flights_samp = flights.loc[samples,:]\n",
    "\n",
    "g = sb.PairGrid(data = flights_samp, vars = num_vars)\n",
    "g = g.map_diag(plt.hist, bins = 20);\n",
    "g.map_offdiag(plt.scatter);"
   ]
  },
  {
   "cell_type": "markdown",
   "metadata": {},
   "source": [
    "Of the numerical variables _DEP_DELAY, ARR_DELAY, AIR_TIME, DISTANCE_, only _DEP_DELAY_ and _ARR_DELAY_ and _AIR_TIME_ and _DISTANCE_ are correlated. _AIR_TIME_ and _DISTANCE_ are not correlated with _DEP_DELAY_ and _ARR_DELAY_."
   ]
  },
  {
   "cell_type": "markdown",
   "metadata": {},
   "source": [
    "###  What is the relationship between categorical variables and departure delay  (>15 min)?"
   ]
  },
  {
   "cell_type": "code",
   "execution_count": null,
   "metadata": {},
   "outputs": [],
   "source": [
    "plt.figure(figsize = [20, 25])\n",
    "base_color = sb.color_palette()[0]\n",
    "\n",
    "# subplot 1: day_of_week vs. dep_del15\n",
    "plt.subplot(7, 1, 1)\n",
    "sb.countplot(data = flights, x = 'DAY_OF_WEEK', hue = 'DEP_DEL15',\n",
    "             order=['Monday','Tuesday','Wednesday','Thursday','Friday','Saturday', 'Sunday'], color = base_color)\n",
    "\n",
    "# subplot 2 dep_hour vs. dep_del15\n",
    "ax = plt.subplot(7, 1, 2)\n",
    "sb.countplot(data = flights, x = 'WEEKDAY_WEEKEND',  hue = 'DEP_DEL15',\n",
    "             order = ['Weekday', 'Weekend'],\n",
    "            color = base_color)\n",
    "ax.legend(ncol = 2)\n",
    "\n",
    "# subplot 3 dep_hour vs. dep_del15\n",
    "ax = plt.subplot(7, 1, 3)\n",
    "sb.countplot(data = flights, x = 'DEP_HOUR',  hue = 'DEP_DEL15',\n",
    "             order = ['1', '2', '3', '4', '5', '6', '7', '8', '9', '10', '11', '12', '13', \n",
    "                    '14', '15', '16', '17', '18', '19', '20', '21', '22', '23', '24'],\n",
    "            color = base_color)\n",
    "ax.legend(loc = 1, ncol = 2)\n",
    "\n",
    "# subplot 4 dep_time_am vs. dep_del15\n",
    "ax = plt.subplot(7, 1, 4)\n",
    "sb.countplot(data = flights, x = 'DEP_TIME_AM',  hue = 'DEP_DEL15',\n",
    "             order = ['AM', 'PM'],\n",
    "            color = base_color)\n",
    "ax.legend(loc = 2, ncol = 2)\n",
    "          \n",
    "# subplot 5: origin state vs. dep_del15\n",
    "ax = plt.subplot(7, 1, 5)\n",
    "origin_state = flights.ORIGIN_STATE_NM.value_counts().nlargest(15)\n",
    "sb.countplot(data = flights, x = 'ORIGIN_STATE_NM',  hue = 'DEP_DEL15',\n",
    "             order = origin_state.index, color = base_color)\n",
    "ax.legend(loc = 3, ncol = 2)\n",
    "\n",
    "# subplot 6: origin city vs. dep_del15\n",
    "ax = plt.subplot(7, 1, 6)\n",
    "origin = flights.ORIGIN.value_counts().nlargest(15)\n",
    "sb.countplot(data = flights, x = 'ORIGIN',  hue = 'DEP_DEL15', order = origin.index, color = base_color)\n",
    "ax.legend(loc = 4, ncol = 2)\n",
    "\n",
    "# subplot 7: carrier vs. dep_del15\n",
    "ax = plt.subplot(7, 1, 7)\n",
    "carrier = flights.Code.value_counts().nlargest(15)\n",
    "sb.countplot(data = flights, x = 'Code',  hue = 'DEP_DEL15', order = carrier.index, color = base_color)\n",
    "ax.legend(loc = 5, ncol = 2)\n",
    "\n",
    "plt.show()"
   ]
  },
  {
   "cell_type": "markdown",
   "metadata": {},
   "source": [
    "> The highest proportion of departure delayed flights occurred on Friday, 6PM, Texas, DFW airport, WN(Soutwest Airlines). \n",
    "\n",
    "### What is the relationship between categorical variables and arrival delay  (>15 min)?"
   ]
  },
  {
   "cell_type": "code",
   "execution_count": null,
   "metadata": {},
   "outputs": [],
   "source": [
    "plt.figure(figsize = [20, 25])\n",
    "base_color = sb.color_palette()[1]\n",
    "\n",
    "# subplot 1: day_of_week vs. arr_del15\n",
    "plt.subplot(5, 1, 1)\n",
    "sb.countplot(data = flights, x = 'DAY_OF_WEEK', hue = 'ARR_DEL15',\n",
    "             order=['Monday','Tuesday','Wednesday','Thursday','Friday','Saturday', 'Sunday'], color = base_color)\n",
    "\n",
    "# subplot 2: dep_hour vs. arr_del15\n",
    "ax = plt.subplot(5, 1, 2)\n",
    "sb.countplot(data = flights, x = 'DEP_HOUR',  hue = 'ARR_DEL15',\n",
    "             order = ['1', '2', '3', '4', '5', '6', '7', '8', '9', '10', '11', '12', '13', \n",
    "                    '14', '15', '16', '17', '18', '19', '20', '21', '22', '23', '24'],\n",
    "            color = base_color)\n",
    "ax.legend(ncol = 2) # re-arrange legend to reduce overlapping\n",
    "\n",
    "# subplot 3: origin state vs. arr_del15\n",
    "ax = plt.subplot(5, 1, 3)\n",
    "origin_state = flights.ORIGIN_STATE_NM.value_counts().nlargest(15)\n",
    "sb.countplot(data = flights, x = 'ORIGIN_STATE_NM',  hue = 'ARR_DEL15',\n",
    "             order = origin_state.index, color = base_color)\n",
    "ax.legend(loc = 1, ncol = 2) # re-arrange legend to remove overlapping\n",
    "\n",
    "# subplot 4: origin city vs. arr_del15\n",
    "ax = plt.subplot(5, 1, 4)\n",
    "origin = flights.ORIGIN.value_counts().nlargest(15)\n",
    "sb.countplot(data = flights, x = 'ORIGIN',  hue = 'ARR_DEL15', order = origin.index, color = base_color)\n",
    "ax.legend(loc = 2, ncol = 2) # re-arrange legend to remove overlapping\n",
    "\n",
    "# subplot 5: carrier vs. arr_del15\n",
    "ax = plt.subplot(5, 1, 5)\n",
    "carrier = flights.Code.value_counts().nlargest(15)\n",
    "sb.countplot(data = flights, x = 'Code',  hue = 'ARR_DEL15', order = carrier.index, color = base_color)\n",
    "ax.legend(loc = 3, ncol = 2) # re-arrange legend to remove overlapping\n",
    "\n",
    "plt.show()"
   ]
  },
  {
   "cell_type": "markdown",
   "metadata": {},
   "source": [
    "> The relationship between whether the arrival of the flight was delayed or not follows the same pattern as departure delayed. \n",
    "\n",
    "### What is the relationship between categorical variables and cancelled?"
   ]
  },
  {
   "cell_type": "code",
   "execution_count": null,
   "metadata": {},
   "outputs": [],
   "source": [
    "plt.figure(figsize = [20, 25])\n",
    "base_color = sb.color_palette()[5]\n",
    "\n",
    "# subplot 1: day_of_week vs. cancelled\n",
    "plt.subplot(5, 1, 1)\n",
    "sb.countplot(data = flights, x = 'DAY_OF_WEEK', hue = 'CANCELLED',\n",
    "             order=['Monday','Tuesday','Wednesday','Thursday','Friday','Saturday', 'Sunday'], color = base_color)\n",
    "\n",
    "# subplot 2: dep_hour vs. cancelled\n",
    "ax = plt.subplot(5, 1, 2)\n",
    "sb.countplot(data = flights, x = 'DEP_HOUR',  hue = 'CANCELLED',\n",
    "             order = ['1', '2', '3', '4', '5', '6', '7', '8', '9', '10', '11', '12', '13', \n",
    "                    '14', '15', '16', '17', '18', '19', '20', '21', '22', '23', '24'],\n",
    "            color = base_color)\n",
    "ax.legend(ncol = 2) # re-arrange legend to reduce overlapping\n",
    "\n",
    "# subplot 3: origin state vs. cancelled\n",
    "ax = plt.subplot(5, 1, 3)\n",
    "origin_state = flights.ORIGIN_STATE_NM.value_counts().nlargest(15)\n",
    "sb.countplot(data = flights, x = 'ORIGIN_STATE_NM',  hue = 'CANCELLED',\n",
    "             order = origin_state.index, color = base_color)\n",
    "ax.legend(loc = 1, ncol = 2) # re-arrange legend to remove overlapping\n",
    "\n",
    "# subplot 4: origin city vs. cancelled\n",
    "ax = plt.subplot(5, 1, 4)\n",
    "origin = flights.ORIGIN.value_counts().nlargest(15)\n",
    "sb.countplot(data = flights, x = 'ORIGIN',  hue = 'CANCELLED', order = origin.index, color = base_color)\n",
    "ax.legend(loc = 2, ncol = 2) # re-arrange legend to remove overlapping\n",
    "\n",
    "# subplot 5: carrier vs. cancelled\n",
    "ax = plt.subplot(5, 1, 5)\n",
    "carrier = flights.Code.value_counts().nlargest(15)\n",
    "sb.countplot(data = flights, x = 'Code',  hue = 'CANCELLED', order = carrier.index, color = base_color)\n",
    "ax.legend(loc = 3, ncol = 2) # re-arrange legend to remove overlapping\n",
    "\n",
    "plt.show()"
   ]
  },
  {
   "cell_type": "markdown",
   "metadata": {},
   "source": [
    "> The highest proportion of cancelled flights occurred on Friday, Illinois, ORD airport, WN(Soutwest Airlines). "
   ]
  },
  {
   "cell_type": "markdown",
   "metadata": {},
   "source": [
    "### Talk about some of the relationships you observed in this part of the investigation. How did the feature(s) of interest vary with other features in the dataset?\n",
    "\n",
    "> Departure delayed, arrival delayed, and cancelled flights occurred during similar time and locations. They occurred highly on Friday, 6PM, Illinois/ Texas, ORD/DFW airport, WN(Soutwest Airlines). These observations are not too suprising because those were the location and time when the number of flights were high. \n",
    "\n",
    "### Did you observe any interesting relationships between the other features (not the main feature(s) of interest)?\n",
    "\n",
    "> There was a strong positive correlation between arrival delay and departure delay and between air time and distance. These correlations are not suprising as delay would lead to delay and planes would fly longer when the distance of the flight is longer. "
   ]
  },
  {
   "cell_type": "markdown",
   "metadata": {},
   "source": [
    "## Multivariate Exploration\n",
    "\n",
    "> In the final section, the relationship between multiple variables are investigated. Here, the relationship between categorical variables and departure delay or arrival delay are observed.\n",
    "\n",
    "### What is the relationship between time of day, time of week, and departure delay?"
   ]
  },
  {
   "cell_type": "code",
   "execution_count": null,
   "metadata": {},
   "outputs": [],
   "source": [
    "plt.figure(figsize = [7, 5])\n",
    "\n",
    "cat_means = flights.groupby(['WEEKDAY_WEEKEND', 'DEP_TIME_AM']).mean()['DEP_DELAY']\n",
    "cat_means = cat_means.reset_index(name = 'DEP_DELAY_avg')\n",
    "cat_means = cat_means.pivot(index = 'DEP_TIME_AM', columns = 'WEEKDAY_WEEKEND',\n",
    "                            values = 'DEP_DELAY_avg')\n",
    "sb.heatmap(cat_means, annot = True, fmt = '.3f',\n",
    "           cbar_kws = {'label' : 'mean(DEP_DELAY)'});"
   ]
  },
  {
   "cell_type": "code",
   "execution_count": null,
   "metadata": {},
   "outputs": [],
   "source": [
    "plt.figure(figsize = [8, 6])\n",
    "ax = sb.barplot(data = flights, x = 'WEEKDAY_WEEKEND', y = 'DEP_DELAY', hue = 'DEP_TIME_AM')\n",
    "ax.legend(loc = 8, ncol = 3, framealpha = 1, title = 'DEP_TIME_AM/PM');"
   ]
  },
  {
   "cell_type": "markdown",
   "metadata": {},
   "source": [
    "> The average departure delay is the longest during weekend afternoon, followed by weekday afternoon, weekend before noon, and weekday before noon.\n",
    "\n",
    "### What is the relationship between time of day, time of week, and arrival delay?"
   ]
  },
  {
   "cell_type": "code",
   "execution_count": null,
   "metadata": {},
   "outputs": [],
   "source": [
    "plt.figure(figsize = [7, 5])\n",
    "\n",
    "cat_means = flights.groupby(['WEEKDAY_WEEKEND', 'DEP_TIME_AM']).mean()['ARR_DELAY']\n",
    "cat_means = cat_means.reset_index(name = 'ARR_DELAY_avg')\n",
    "cat_means = cat_means.pivot(index = 'DEP_TIME_AM', columns = 'WEEKDAY_WEEKEND',\n",
    "                            values = 'ARR_DELAY_avg')\n",
    "sb.heatmap(cat_means, annot = True, fmt = '.3f',\n",
    "           cbar_kws = {'label' : 'mean(ARR_DELAY)'});"
   ]
  },
  {
   "cell_type": "code",
   "execution_count": null,
   "metadata": {},
   "outputs": [],
   "source": [
    "plt.figure(figsize = [1, 8])\n",
    "ax = sb.barplot(data = flights, x = 'WEEKDAY_WEEKEND', y = 'ARR_DELAY', hue = 'DEP_TIME_AM')\n",
    "ax.legend(loc = 8, ncol = 3, framealpha = 1, title = 'DEP_TIME_AM/PM');"
   ]
  },
  {
   "cell_type": "markdown",
   "metadata": {},
   "source": [
    "> The average arrival delay is the longest during weekend afternoon. There is no delay in arrival time during weekday afternoon, weekend before noon, and weeday before noon; arrival is earliest during weekday before noon, followed by weekend before noon and weekend afternoon. "
   ]
  },
  {
   "cell_type": "markdown",
   "metadata": {},
   "source": [
    "### Talk about some of the relationships you observed in this part of the investigation. Were there features that strengthened each other in terms of looking at your feature(s) of interest?\n",
    "\n",
    "> In this section, I plotted the relationship between the time of day, the time of week, and departure and arrival delay. I used the binary variable of the time of day (AM/PM), the binary variable of time of weeday (weekday/weekend), and delay time. From above we \n",
    "\n",
    "\n",
    "### Were there any interesting or surprising interactions between features?\n",
    "\n",
    "> The trend of longest to shortest delay was the same for arrival and departure delay (weekend afternoon, weekday afternoon, weekend before noon, and weekday before noon). However, while on average there was a departure delay for all four categories, there was a arrival delay only during weekend afternoon. During weekday afternoon, weekend before noon, and weekday before noon, flights arrived earlier than the scheduled time. This may be because airlines mark their flight schedules by a wide margin.  "
   ]
  },
  {
   "cell_type": "markdown",
   "metadata": {},
   "source": [
    "> At the end of your report, make sure that you export the notebook as an\n",
    "html file from the `File > Download as... > HTML` menu. Make sure you keep\n",
    "track of where the exported file goes, so you can put it in the same folder\n",
    "as this notebook for project submission. Also, make sure you remove all of\n",
    "the quote-formatted guide notes like this one before you finish your report!"
   ]
  }
 ],
 "metadata": {
  "kernelspec": {
   "display_name": "Python 3",
   "language": "python",
   "name": "python3"
  },
  "language_info": {
   "codemirror_mode": {
    "name": "ipython",
    "version": 3
   },
   "file_extension": ".py",
   "mimetype": "text/x-python",
   "name": "python",
   "nbconvert_exporter": "python",
   "pygments_lexer": "ipython3",
   "version": "3.11.0"
  },
  "vscode": {
   "interpreter": {
    "hash": "aee8b7b246df8f9039afb4144a1f6fd8d2ca17a180786b69acc140d282b71a49"
   }
  }
 },
 "nbformat": 4,
 "nbformat_minor": 2
}
